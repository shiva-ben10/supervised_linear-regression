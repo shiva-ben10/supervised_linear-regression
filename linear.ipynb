{
 "cells": [
  {
   "cell_type": "markdown",
   "id": "b7cdd5c5-93ee-4935-9ca6-34bb3611390e",
   "metadata": {},
   "source": [
    "# Importing packages"
   ]
  },
  {
   "cell_type": "code",
   "execution_count": 31,
   "id": "c49c197c-b607-4d5a-a081-6ad2474d3d8e",
   "metadata": {},
   "outputs": [],
   "source": [
    "import numpy as np\n",
    "import pandas as pd\n",
    "import os\n",
    "import matplotlib.pyplot as plt\n",
    "import seaborn as sns\n",
    "from sklearn.model_selection import train_test_split as tts\n",
    "from sklearn.linear_model import LinearRegression as LR\n",
    "from sklearn.metrics import mean_squared_error as mse"
   ]
  },
  {
   "cell_type": "markdown",
   "id": "1cce882f-ffc4-48a2-b16e-39714bd16b42",
   "metadata": {},
   "source": [
    "# Importing Data"
   ]
  },
  {
   "cell_type": "code",
   "execution_count": 8,
   "id": "e3955b69-f68d-4de3-8e31-7afbfdd4ebb0",
   "metadata": {},
   "outputs": [
    {
     "data": {
      "text/html": [
       "<div>\n",
       "<style scoped>\n",
       "    .dataframe tbody tr th:only-of-type {\n",
       "        vertical-align: middle;\n",
       "    }\n",
       "\n",
       "    .dataframe tbody tr th {\n",
       "        vertical-align: top;\n",
       "    }\n",
       "\n",
       "    .dataframe thead th {\n",
       "        text-align: right;\n",
       "    }\n",
       "</style>\n",
       "<table border=\"1\" class=\"dataframe\">\n",
       "  <thead>\n",
       "    <tr style=\"text-align: right;\">\n",
       "      <th></th>\n",
       "      <th>sq</th>\n",
       "      <th>num_of_rooms</th>\n",
       "      <th>age_of_building</th>\n",
       "      <th>pruchase_price</th>\n",
       "    </tr>\n",
       "  </thead>\n",
       "  <tbody>\n",
       "    <tr>\n",
       "      <th>0</th>\n",
       "      <td>1235</td>\n",
       "      <td>6</td>\n",
       "      <td>7</td>\n",
       "      <td>354.952113</td>\n",
       "    </tr>\n",
       "    <tr>\n",
       "      <th>1</th>\n",
       "      <td>6192</td>\n",
       "      <td>6</td>\n",
       "      <td>2</td>\n",
       "      <td>1344.652968</td>\n",
       "    </tr>\n",
       "    <tr>\n",
       "      <th>2</th>\n",
       "      <td>1905</td>\n",
       "      <td>9</td>\n",
       "      <td>8</td>\n",
       "      <td>522.863352</td>\n",
       "    </tr>\n",
       "    <tr>\n",
       "      <th>3</th>\n",
       "      <td>8813</td>\n",
       "      <td>4</td>\n",
       "      <td>3</td>\n",
       "      <td>1851.735339</td>\n",
       "    </tr>\n",
       "    <tr>\n",
       "      <th>4</th>\n",
       "      <td>3895</td>\n",
       "      <td>4</td>\n",
       "      <td>0</td>\n",
       "      <td>890.906997</td>\n",
       "    </tr>\n",
       "    <tr>\n",
       "      <th>...</th>\n",
       "      <td>...</td>\n",
       "      <td>...</td>\n",
       "      <td>...</td>\n",
       "      <td>...</td>\n",
       "    </tr>\n",
       "    <tr>\n",
       "      <th>95</th>\n",
       "      <td>1489</td>\n",
       "      <td>5</td>\n",
       "      <td>5</td>\n",
       "      <td>386.730016</td>\n",
       "    </tr>\n",
       "    <tr>\n",
       "      <th>96</th>\n",
       "      <td>1152</td>\n",
       "      <td>2</td>\n",
       "      <td>9</td>\n",
       "      <td>292.462227</td>\n",
       "    </tr>\n",
       "    <tr>\n",
       "      <th>97</th>\n",
       "      <td>4410</td>\n",
       "      <td>8</td>\n",
       "      <td>4</td>\n",
       "      <td>992.743197</td>\n",
       "    </tr>\n",
       "    <tr>\n",
       "      <th>98</th>\n",
       "      <td>5979</td>\n",
       "      <td>2</td>\n",
       "      <td>9</td>\n",
       "      <td>1264.750261</td>\n",
       "    </tr>\n",
       "    <tr>\n",
       "      <th>99</th>\n",
       "      <td>3178</td>\n",
       "      <td>7</td>\n",
       "      <td>1</td>\n",
       "      <td>750.855617</td>\n",
       "    </tr>\n",
       "  </tbody>\n",
       "</table>\n",
       "<p>100 rows × 4 columns</p>\n",
       "</div>"
      ],
      "text/plain": [
       "      sq  num_of_rooms  age_of_building  pruchase_price\n",
       "0   1235             6                7      354.952113\n",
       "1   6192             6                2     1344.652968\n",
       "2   1905             9                8      522.863352\n",
       "3   8813             4                3     1851.735339\n",
       "4   3895             4                0      890.906997\n",
       "..   ...           ...              ...             ...\n",
       "95  1489             5                5      386.730016\n",
       "96  1152             2                9      292.462227\n",
       "97  4410             8                4      992.743197\n",
       "98  5979             2                9     1264.750261\n",
       "99  3178             7                1      750.855617\n",
       "\n",
       "[100 rows x 4 columns]"
      ]
     },
     "execution_count": 8,
     "metadata": {},
     "output_type": "execute_result"
    }
   ],
   "source": [
    "np.random.seed(1)\n",
    "num_samples= 100\n",
    "\n",
    "# Featues\n",
    "sq_ft=np.random.randint(1000,10000,num_samples)\n",
    "num_rooms=np.random.randint(2,10,num_samples)\n",
    "age=np.random.randint(0,10,num_samples)\n",
    "house_price=(50+0.2*sq_ft+10*num_rooms-1*age+np.random.randn(num_samples)*10) # this is simulation\n",
    "df=pd.DataFrame({'sq':sq_ft,'num_of_rooms':num_rooms,\"age_of_building\":age,\"pruchase_price\": house_price})\n",
    "df"
   ]
  },
  {
   "cell_type": "markdown",
   "id": "9f308c22-216b-48f1-bacb-42372437e047",
   "metadata": {},
   "source": [
    "# Exploratory data analysis"
   ]
  },
  {
   "cell_type": "code",
   "execution_count": 10,
   "id": "a4ef229d-b723-436f-b4b5-da2f32a22fbc",
   "metadata": {},
   "outputs": [
    {
     "data": {
      "text/plain": [
       "(100, 4)"
      ]
     },
     "execution_count": 10,
     "metadata": {},
     "output_type": "execute_result"
    }
   ],
   "source": [
    "df.shape"
   ]
  },
  {
   "cell_type": "code",
   "execution_count": 14,
   "id": "22339ab9-9a1a-464b-b479-f60dd4189c83",
   "metadata": {},
   "outputs": [
    {
     "name": "stdout",
     "output_type": "stream",
     "text": [
      "<class 'pandas.core.frame.DataFrame'>\n",
      "RangeIndex: 100 entries, 0 to 99\n",
      "Data columns (total 4 columns):\n",
      " #   Column           Non-Null Count  Dtype  \n",
      "---  ------           --------------  -----  \n",
      " 0   sq               100 non-null    int32  \n",
      " 1   num_of_rooms     100 non-null    int32  \n",
      " 2   age_of_building  100 non-null    int32  \n",
      " 3   pruchase_price   100 non-null    float64\n",
      "dtypes: float64(1), int32(3)\n",
      "memory usage: 2.1 KB\n"
     ]
    }
   ],
   "source": [
    "df.info()"
   ]
  },
  {
   "cell_type": "code",
   "execution_count": 13,
   "id": "dbab2f61-a09b-4b85-86c2-0cbbc53b09c0",
   "metadata": {},
   "outputs": [
    {
     "data": {
      "text/html": [
       "<div>\n",
       "<style scoped>\n",
       "    .dataframe tbody tr th:only-of-type {\n",
       "        vertical-align: middle;\n",
       "    }\n",
       "\n",
       "    .dataframe tbody tr th {\n",
       "        vertical-align: top;\n",
       "    }\n",
       "\n",
       "    .dataframe thead th {\n",
       "        text-align: right;\n",
       "    }\n",
       "</style>\n",
       "<table border=\"1\" class=\"dataframe\">\n",
       "  <thead>\n",
       "    <tr style=\"text-align: right;\">\n",
       "      <th></th>\n",
       "      <th>sq</th>\n",
       "      <th>num_of_rooms</th>\n",
       "      <th>age_of_building</th>\n",
       "      <th>pruchase_price</th>\n",
       "    </tr>\n",
       "  </thead>\n",
       "  <tbody>\n",
       "    <tr>\n",
       "      <th>count</th>\n",
       "      <td>100.00000</td>\n",
       "      <td>100.000000</td>\n",
       "      <td>100.000000</td>\n",
       "      <td>100.000000</td>\n",
       "    </tr>\n",
       "    <tr>\n",
       "      <th>mean</th>\n",
       "      <td>4767.34000</td>\n",
       "      <td>5.500000</td>\n",
       "      <td>4.470000</td>\n",
       "      <td>1055.022069</td>\n",
       "    </tr>\n",
       "    <tr>\n",
       "      <th>std</th>\n",
       "      <td>2698.03243</td>\n",
       "      <td>2.341975</td>\n",
       "      <td>2.854927</td>\n",
       "      <td>539.580914</td>\n",
       "    </tr>\n",
       "    <tr>\n",
       "      <th>min</th>\n",
       "      <td>1015.00000</td>\n",
       "      <td>2.000000</td>\n",
       "      <td>0.000000</td>\n",
       "      <td>288.330833</td>\n",
       "    </tr>\n",
       "    <tr>\n",
       "      <th>25%</th>\n",
       "      <td>2283.00000</td>\n",
       "      <td>3.000000</td>\n",
       "      <td>2.000000</td>\n",
       "      <td>560.959535</td>\n",
       "    </tr>\n",
       "    <tr>\n",
       "      <th>50%</th>\n",
       "      <td>4419.00000</td>\n",
       "      <td>6.000000</td>\n",
       "      <td>4.500000</td>\n",
       "      <td>989.288409</td>\n",
       "    </tr>\n",
       "    <tr>\n",
       "      <th>75%</th>\n",
       "      <td>7146.00000</td>\n",
       "      <td>7.000000</td>\n",
       "      <td>7.000000</td>\n",
       "      <td>1515.897811</td>\n",
       "    </tr>\n",
       "    <tr>\n",
       "      <th>max</th>\n",
       "      <td>9920.00000</td>\n",
       "      <td>9.000000</td>\n",
       "      <td>9.000000</td>\n",
       "      <td>2055.023193</td>\n",
       "    </tr>\n",
       "  </tbody>\n",
       "</table>\n",
       "</div>"
      ],
      "text/plain": [
       "               sq  num_of_rooms  age_of_building  pruchase_price\n",
       "count   100.00000    100.000000       100.000000      100.000000\n",
       "mean   4767.34000      5.500000         4.470000     1055.022069\n",
       "std    2698.03243      2.341975         2.854927      539.580914\n",
       "min    1015.00000      2.000000         0.000000      288.330833\n",
       "25%    2283.00000      3.000000         2.000000      560.959535\n",
       "50%    4419.00000      6.000000         4.500000      989.288409\n",
       "75%    7146.00000      7.000000         7.000000     1515.897811\n",
       "max    9920.00000      9.000000         9.000000     2055.023193"
      ]
     },
     "execution_count": 13,
     "metadata": {},
     "output_type": "execute_result"
    }
   ],
   "source": [
    "df.describe()"
   ]
  },
  {
   "cell_type": "code",
   "execution_count": 15,
   "id": "885442ec-ba86-42f0-80cf-8469d2c815bf",
   "metadata": {},
   "outputs": [
    {
     "data": {
      "text/plain": [
       "sq                 0\n",
       "num_of_rooms       0\n",
       "age_of_building    0\n",
       "pruchase_price     0\n",
       "dtype: int64"
      ]
     },
     "execution_count": 15,
     "metadata": {},
     "output_type": "execute_result"
    }
   ],
   "source": [
    "df.isnull().sum()"
   ]
  },
  {
   "cell_type": "code",
   "execution_count": 16,
   "id": "31e6f6fb-3c6e-4baf-8517-e6c2580603a2",
   "metadata": {},
   "outputs": [
    {
     "data": {
      "text/html": [
       "<div>\n",
       "<style scoped>\n",
       "    .dataframe tbody tr th:only-of-type {\n",
       "        vertical-align: middle;\n",
       "    }\n",
       "\n",
       "    .dataframe tbody tr th {\n",
       "        vertical-align: top;\n",
       "    }\n",
       "\n",
       "    .dataframe thead th {\n",
       "        text-align: right;\n",
       "    }\n",
       "</style>\n",
       "<table border=\"1\" class=\"dataframe\">\n",
       "  <thead>\n",
       "    <tr style=\"text-align: right;\">\n",
       "      <th></th>\n",
       "      <th>sq</th>\n",
       "      <th>num_of_rooms</th>\n",
       "      <th>age_of_building</th>\n",
       "      <th>pruchase_price</th>\n",
       "    </tr>\n",
       "  </thead>\n",
       "  <tbody>\n",
       "    <tr>\n",
       "      <th>0</th>\n",
       "      <td>1235</td>\n",
       "      <td>6</td>\n",
       "      <td>7</td>\n",
       "      <td>354.952113</td>\n",
       "    </tr>\n",
       "    <tr>\n",
       "      <th>1</th>\n",
       "      <td>6192</td>\n",
       "      <td>6</td>\n",
       "      <td>2</td>\n",
       "      <td>1344.652968</td>\n",
       "    </tr>\n",
       "    <tr>\n",
       "      <th>2</th>\n",
       "      <td>1905</td>\n",
       "      <td>9</td>\n",
       "      <td>8</td>\n",
       "      <td>522.863352</td>\n",
       "    </tr>\n",
       "    <tr>\n",
       "      <th>3</th>\n",
       "      <td>8813</td>\n",
       "      <td>4</td>\n",
       "      <td>3</td>\n",
       "      <td>1851.735339</td>\n",
       "    </tr>\n",
       "    <tr>\n",
       "      <th>4</th>\n",
       "      <td>3895</td>\n",
       "      <td>4</td>\n",
       "      <td>0</td>\n",
       "      <td>890.906997</td>\n",
       "    </tr>\n",
       "  </tbody>\n",
       "</table>\n",
       "</div>"
      ],
      "text/plain": [
       "     sq  num_of_rooms  age_of_building  pruchase_price\n",
       "0  1235             6                7      354.952113\n",
       "1  6192             6                2     1344.652968\n",
       "2  1905             9                8      522.863352\n",
       "3  8813             4                3     1851.735339\n",
       "4  3895             4                0      890.906997"
      ]
     },
     "execution_count": 16,
     "metadata": {},
     "output_type": "execute_result"
    }
   ],
   "source": [
    "df.head(5)"
   ]
  },
  {
   "cell_type": "markdown",
   "id": "040574bf-325a-4ea5-ba1a-7f229ed311b4",
   "metadata": {},
   "source": [
    "# Declare feature vector and target variable"
   ]
  },
  {
   "cell_type": "code",
   "execution_count": 21,
   "id": "d876606e-b131-4493-990c-f9e484c4090d",
   "metadata": {},
   "outputs": [],
   "source": [
    "x=df[['sq']]\n",
    "y=df[['pruchase_price']]"
   ]
  },
  {
   "cell_type": "markdown",
   "id": "7acdaa3c-80b3-4869-9713-cd3cda3ae828",
   "metadata": {},
   "source": [
    "# Split data into separate training and test set"
   ]
  },
  {
   "cell_type": "code",
   "execution_count": 44,
   "id": "d4057ec5-5798-4199-ad2d-fe4c8ee7fd50",
   "metadata": {},
   "outputs": [],
   "source": [
    "x_train,x_test,y_train,y_test=tts(x,y,test_size=0.3,random_state=42)"
   ]
  },
  {
   "cell_type": "code",
   "execution_count": 45,
   "id": "c8556704-def6-446d-9e5b-61943481bb5d",
   "metadata": {},
   "outputs": [
    {
     "data": {
      "text/html": [
       "<div>\n",
       "<style scoped>\n",
       "    .dataframe tbody tr th:only-of-type {\n",
       "        vertical-align: middle;\n",
       "    }\n",
       "\n",
       "    .dataframe tbody tr th {\n",
       "        vertical-align: top;\n",
       "    }\n",
       "\n",
       "    .dataframe thead th {\n",
       "        text-align: right;\n",
       "    }\n",
       "</style>\n",
       "<table border=\"1\" class=\"dataframe\">\n",
       "  <thead>\n",
       "    <tr style=\"text-align: right;\">\n",
       "      <th></th>\n",
       "      <th>sq</th>\n",
       "    </tr>\n",
       "  </thead>\n",
       "  <tbody>\n",
       "    <tr>\n",
       "      <th>11</th>\n",
       "      <td>6374</td>\n",
       "    </tr>\n",
       "    <tr>\n",
       "      <th>47</th>\n",
       "      <td>8906</td>\n",
       "    </tr>\n",
       "    <tr>\n",
       "      <th>85</th>\n",
       "      <td>7713</td>\n",
       "    </tr>\n",
       "    <tr>\n",
       "      <th>28</th>\n",
       "      <td>5415</td>\n",
       "    </tr>\n",
       "    <tr>\n",
       "      <th>93</th>\n",
       "      <td>9798</td>\n",
       "    </tr>\n",
       "    <tr>\n",
       "      <th>...</th>\n",
       "      <td>...</td>\n",
       "    </tr>\n",
       "    <tr>\n",
       "      <th>60</th>\n",
       "      <td>5039</td>\n",
       "    </tr>\n",
       "    <tr>\n",
       "      <th>71</th>\n",
       "      <td>1461</td>\n",
       "    </tr>\n",
       "    <tr>\n",
       "      <th>14</th>\n",
       "      <td>9444</td>\n",
       "    </tr>\n",
       "    <tr>\n",
       "      <th>92</th>\n",
       "      <td>4212</td>\n",
       "    </tr>\n",
       "    <tr>\n",
       "      <th>51</th>\n",
       "      <td>2150</td>\n",
       "    </tr>\n",
       "  </tbody>\n",
       "</table>\n",
       "<p>70 rows × 1 columns</p>\n",
       "</div>"
      ],
      "text/plain": [
       "      sq\n",
       "11  6374\n",
       "47  8906\n",
       "85  7713\n",
       "28  5415\n",
       "93  9798\n",
       "..   ...\n",
       "60  5039\n",
       "71  1461\n",
       "14  9444\n",
       "92  4212\n",
       "51  2150\n",
       "\n",
       "[70 rows x 1 columns]"
      ]
     },
     "execution_count": 45,
     "metadata": {},
     "output_type": "execute_result"
    }
   ],
   "source": [
    "x_train"
   ]
  },
  {
   "cell_type": "code",
   "execution_count": null,
   "id": "1010785d-671b-4785-b4b8-3c7205bfe078",
   "metadata": {},
   "outputs": [],
   "source": []
  },
  {
   "cell_type": "markdown",
   "id": "e7b2084c-c989-497e-89c0-f0e1328c5a14",
   "metadata": {},
   "source": [
    "# Model training"
   ]
  },
  {
   "cell_type": "code",
   "execution_count": 104,
   "id": "06bfa122-a715-4ff0-a031-bd68fcfd53fd",
   "metadata": {},
   "outputs": [],
   "source": [
    "l=LR()\n",
    "# traning data\n",
    "l.fit(x_train,y_train)\n",
    "ypred_train=l.predict(x_train)\n",
    "\n",
    "# test dat\n",
    "\n",
    "l.fit(x_test,y_test)\n",
    "ypred_test=l.predict(x_test)\n"
   ]
  },
  {
   "cell_type": "code",
   "execution_count": 105,
   "id": "b5f34e8b-1bb6-4cc9-a858-40feb9d58f9e",
   "metadata": {},
   "outputs": [
    {
     "name": "stdout",
     "output_type": "stream",
     "text": [
      "Intercept [97.05196205]\n",
      "co-efficent [[0.20093855]]\n"
     ]
    }
   ],
   "source": [
    "print(f\"Intercept {l.intercept_}\")\n",
    "print(f\"co-efficent {l.coef_}\")\n",
    "\n"
   ]
  },
  {
   "cell_type": "markdown",
   "id": "66356304-8d69-4d40-a933-af171ecdbd43",
   "metadata": {},
   "source": [
    "# ploting the Graph"
   ]
  },
  {
   "cell_type": "markdown",
   "id": "733df4ae-7586-4fe4-9a06-3d3076b8cb71",
   "metadata": {},
   "source": [
    "### ploting the graph for train data"
   ]
  },
  {
   "cell_type": "code",
   "execution_count": 106,
   "id": "edbf9a0a-43b9-43b6-8265-76949b8b2e24",
   "metadata": {},
   "outputs": [
    {
     "data": {
      "image/png": "[encoded data removed]",
      "text/plain": [
       "<Figure size 900x800 with 2 Axes>"
      ]
     },
     "metadata": {},
     "output_type": "display_data"
    }
   ],
   "source": [
    "plt.figure(figsize=(9,8))\n",
    "plt.subplot(2,2,1)\n",
    "plt.plot(x_train,ypred_train,color=\"red\",label=\"linear regg line\")\n",
    "sns.scatterplot(x=x_train['sq'],y=y_train['pruchase_price'],color='blue',label=\"train data\")\n",
    "plt.xlabel(\"Squarefeet\")\n",
    "plt.ylabel(\"Price\")\n",
    "plt.title(\"House price pridiction for train data\")\n",
    "\n",
    "plt.subplot(2,2,2)\n",
    "plt.plot(x_test,ypred_test,color=\"green\",label=\"line plot\")\n",
    "sns.scatterplot(x=x_test['sq'],y=y_test['pruchase_price'],color='black',label=\"test data\")\n",
    "\n",
    "plt.show()\n",
    "\n",
    "\n"
   ]
  },
  {
   "cell_type": "markdown",
   "id": "17752864-141b-4047-92b9-31343df2c2d7",
   "metadata": {},
   "source": [
    "### metrics"
   ]
  },
  {
   "cell_type": "code",
   "execution_count": 107,
   "id": "a43e99ab-584e-4c36-9e57-4b02731cd1cb",
   "metadata": {},
   "outputs": [
    {
     "data": {
      "text/plain": [
       "19388507.89033105"
      ]
     },
     "execution_count": 107,
     "metadata": {},
     "output_type": "execute_result"
    }
   ],
   "source": [
    "mse_train=mse(x_train,ypred_train)\n",
    "mse_train"
   ]
  },
  {
   "cell_type": "code",
   "execution_count": 109,
   "id": "aaa5f59a-934f-4b00-96f4-167ddddb129e",
   "metadata": {},
   "outputs": [
    {
     "data": {
      "text/plain": [
       "16079855.20462132"
      ]
     },
     "execution_count": 109,
     "metadata": {},
     "output_type": "execute_result"
    }
   ],
   "source": [
    "mse_test=mse(x_test,ypred_test)\n",
    "mse_test"
   ]
  },
  {
   "cell_type": "markdown",
   "id": "be9a0cd1-95cb-480e-aaf0-8829c647dfac",
   "metadata": {},
   "source": [
    "# Predict results "
   ]
  },
  {
   "cell_type": "code",
   "execution_count": 112,
   "id": "2a5ca8d6-b7b8-4195-b334-f77e5bfe704c",
   "metadata": {},
   "outputs": [
    {
     "name": "stderr",
     "output_type": "stream",
     "text": [
      "C:\\Program Files\\anaconda3\\Lib\\site-packages\\sklearn\\base.py:493: UserWarning: X does not have valid feature names, but LinearRegression was fitted with feature names\n",
      "  warnings.warn(\n"
     ]
    },
    {
     "data": {
      "text/plain": [
       "array([[157.33352758]])"
      ]
     },
     "execution_count": 112,
     "metadata": {},
     "output_type": "execute_result"
    }
   ],
   "source": [
    "l.predict([[300]])"
   ]
  },
  {
   "cell_type": "code",
   "execution_count": null,
   "id": "1f4c78d6-6969-4fd0-9d6f-7194cad8229a",
   "metadata": {},
   "outputs": [],
   "source": []
  }
 ],
 "metadata": {
  "kernelspec": {
   "display_name": "Python 3 (ipykernel)",
   "language": "python",
   "name": "python3"
  },
  "language_info": {
   "codemirror_mode": {
    "name": "ipython",
    "version": 3
   },
   "file_extension": ".py",
   "mimetype": "text/x-python",
   "name": "python",
   "nbconvert_exporter": "python",
   "pygments_lexer": "ipython3",
   "version": "3.12.7"
  }
 },
 "nbformat": 4,
 "nbformat_minor": 5
}
